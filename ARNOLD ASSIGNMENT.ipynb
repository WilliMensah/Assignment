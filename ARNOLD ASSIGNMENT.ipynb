{
 "cells": [
  {
   "cell_type": "code",
   "execution_count": 1,
   "id": "05878265",
   "metadata": {},
   "outputs": [],
   "source": [
    "import numpy as np"
   ]
  },
  {
   "cell_type": "code",
   "execution_count": 2,
   "id": "8737a700",
   "metadata": {},
   "outputs": [],
   "source": [
    "# Sample observational data (in degrees Celsius)\n",
    "observations = np.array([15.2, 16.1, 14.5, 15.8, 25.0])\n",
    "\n",
    "# Sample model predictions (in degrees Celsius)\n",
    "model_output = np.array([14.8, 15.5, 14.0, 16.0, 25.3])"
   ]
  },
  {
   "cell_type": "code",
   "execution_count": 3,
   "id": "a4640a6f",
   "metadata": {},
   "outputs": [],
   "source": [
    "# Kalman Filter Data Assimilation\n",
    "def kalman_filter(obs, model, obs_error, model_error):\n",
    "    # Number of observations\n",
    "    n = len(obs)\n",
    "    \n",
    "    # Initial state estimate (from model output)\n",
    "    x = model[0]\n",
    "    \n",
    "    # Initial error covariance\n",
    "    P = model_error**2\n",
    "    \n",
    "    # Process noise covariance (assumed small for simplicity)\n",
    "    Q = 1e-5\n",
    "     \n",
    "    # Measurement noise covariance\n",
    "    R = obs_error**2\n",
    "    \n",
    "    # Arrays to store results\n",
    "    analysis = np.zeros(n)\n",
    "    analysis[0] = x\n",
    "    \n",
    "    for k in range(1, n):\n",
    "        # Prediction step\n",
    "        x = model[k]\n",
    "        P = P + Q\n",
    "        \n",
    "        # Kalman Gain\n",
    "        K = P / (P + R)\n",
    "        \n",
    "        # Update step\n",
    "        x = x + K * (obs[k] - x)\n",
    "        P = (1 - K) * P\n",
    "        \n",
    "        # Store result\n",
    "        analysis[k] = x\n",
    "    \n",
    "    return analysis"
   ]
  },
  {
   "cell_type": "code",
   "execution_count": 4,
   "id": "a2ca868a",
   "metadata": {},
   "outputs": [],
   "source": [
    "# Assuming observation error and model error are known\n",
    "obs_error = 0.5\n",
    "model_error = 1.0"
   ]
  },
  {
   "cell_type": "code",
   "execution_count": 5,
   "id": "98ab3c59",
   "metadata": {},
   "outputs": [],
   "source": [
    "# Calculate analysis fields using Kalman Filter\n",
    "analysis = kalman_filter(observations, model_output, obs_error, model_error)"
   ]
  },
  {
   "cell_type": "code",
   "execution_count": 6,
   "id": "b6b31c43",
   "metadata": {},
   "outputs": [],
   "source": [
    "# Function to calculate RMSE\n",
    "def rmse(a, b):\n",
    "    return np.sqrt(np.mean((a - b) ** 2))"
   ]
  },
  {
   "cell_type": "code",
   "execution_count": 7,
   "id": "22d3f5ba",
   "metadata": {},
   "outputs": [],
   "source": [
    "# Function to calculate bias\n",
    "def bias(a, b):\n",
    "    return np.mean(a - b)"
   ]
  },
  {
   "cell_type": "code",
   "execution_count": 8,
   "id": "f745c4d1",
   "metadata": {},
   "outputs": [],
   "source": [
    "# Calculate RMSE and bias\n",
    "rmse_model_obs = rmse(model_output, observations)\n",
    "rmse_analysis_obs = rmse(analysis, observations)\n",
    "bias_model_obs = bias(model_output, observations)\n",
    "bias_analysis_obs = bias(analysis, observations)"
   ]
  },
  {
   "cell_type": "code",
   "execution_count": 9,
   "id": "68829151",
   "metadata": {},
   "outputs": [
    {
     "name": "stdout",
     "output_type": "stream",
     "text": [
      "Observations:  [15.2 16.1 14.5 15.8 25. ]\n",
      "Model Output:  [14.8 15.5 14.  16.  25.3]\n",
      "Analysis:  [14.8        15.98000096 14.22222864 15.93845647 25.22940031]\n",
      "\n",
      "RMSE and Bias Comparison:\n",
      "RMSE (Model vs Observations): 0.42\n",
      "RMSE (Analysis vs Observations): 0.25\n",
      "Bias (Model vs Observations): -0.20\n",
      "Bias (Analysis vs Observations): -0.09\n"
     ]
    }
   ],
   "source": [
    "# Print results\n",
    "print(\"Observations: \", observations)\n",
    "print(\"Model Output: \", model_output)\n",
    "print(\"Analysis: \", analysis)\n",
    "print(\"\\nRMSE and Bias Comparison:\")\n",
    "print(f\"RMSE (Model vs Observations): {rmse_model_obs:.2f}\")\n",
    "print(f\"RMSE (Analysis vs Observations): {rmse_analysis_obs:.2f}\")\n",
    "print(f\"Bias (Model vs Observations): {bias_model_obs:.2f}\")\n",
    "print(f\"Bias (Analysis vs Observations): {bias_analysis_obs:.2f}\")"
   ]
  },
  {
   "cell_type": "code",
   "execution_count": null,
   "id": "2312502e",
   "metadata": {},
   "outputs": [],
   "source": []
  }
 ],
 "metadata": {
  "kernelspec": {
   "display_name": "Python 3 (ipykernel)",
   "language": "python",
   "name": "python3"
  },
  "language_info": {
   "codemirror_mode": {
    "name": "ipython",
    "version": 3
   },
   "file_extension": ".py",
   "mimetype": "text/x-python",
   "name": "python",
   "nbconvert_exporter": "python",
   "pygments_lexer": "ipython3",
   "version": "3.11.5"
  }
 },
 "nbformat": 4,
 "nbformat_minor": 5
}
